{
 "cells": [
  {
   "cell_type": "code",
   "execution_count": null,
   "id": "d04c8dc5",
   "metadata": {},
   "outputs": [],
   "source": [
    "#ML Theory Assignment 3"
   ]
  },
  {
   "cell_type": "markdown",
   "id": "0104a857",
   "metadata": {},
   "source": [
    "1.Explain the term machine learning, and how does it work? Explain two machine learning\n",
    "applications in the business world. What are some of the ethical concerns that machine learning\n",
    "applications could raise?"
   ]
  },
  {
   "cell_type": "code",
   "execution_count": null,
   "id": "32f4c4b6",
   "metadata": {},
   "outputs": [],
   "source": [
    "# Machine learning is a data analytics technique that teaches computers to do what comes naturally to humans and animals\n",
    "# Real-time chatbot systems, Fraud detection etc are some of the applications of the business world.\n",
    "# Lack quality data, cost to innovation etc are the ethical concerns."
   ]
  },
  {
   "cell_type": "markdown",
   "id": "52c307bb",
   "metadata": {},
   "source": [
    "2.Describe the process of human learning:\n",
    "i.Under the supervision of experts\n",
    "ii.With the assistance of experts in an indirect manner\n",
    "iii.Self-education"
   ]
  },
  {
   "cell_type": "code",
   "execution_count": null,
   "id": "8d7ea19e",
   "metadata": {},
   "outputs": [],
   "source": [
    "# 1) Under the supervision of experts: Error is minimum just like supervised ML.\n",
    "# 2) With the assistance of experts in an indirect manner: Just like unsupervised ML we know the input but are not sure about the output.\n",
    "# 3) In self education we learn from our positives and try to avoid our negatives just like reinforcement learning in ML."
   ]
  },
  {
   "cell_type": "markdown",
   "id": "ca0fc663",
   "metadata": {},
   "source": [
    "3.Provide a few examples of various types of machine learning."
   ]
  },
  {
   "cell_type": "code",
   "execution_count": null,
   "id": "b4c2f4b2",
   "metadata": {},
   "outputs": [],
   "source": [
    "# 1 Supervised- regression, Classification\n",
    "# 2) Unsupervised - k means, pca\n",
    "# 3) Reinforcement learning- Positives and negatives"
   ]
  },
  {
   "cell_type": "markdown",
   "id": "a7a075a1",
   "metadata": {},
   "source": [
    "4.Examine the various forms of machine learning."
   ]
  },
  {
   "cell_type": "code",
   "execution_count": null,
   "id": "65a6b67c",
   "metadata": {},
   "outputs": [],
   "source": [
    "# 1 Supervised- regression, Classification\n",
    "# 2) Unsupervised - k means, pca\n",
    "# 3) Reinforcement learning- Positives and negatives"
   ]
  },
  {
   "cell_type": "markdown",
   "id": "1a26f966",
   "metadata": {},
   "source": [
    "5.Can you explain what a well-posed learning problem is? Explain the main characteristics that must\n",
    "be present to identify a learning problem properly."
   ]
  },
  {
   "cell_type": "code",
   "execution_count": null,
   "id": "ad620247",
   "metadata": {},
   "outputs": [],
   "source": [
    "# If the solution exists, the model depends on the data but at the same time is not sensative to the change in the data."
   ]
  },
  {
   "cell_type": "markdown",
   "id": "793f4df8",
   "metadata": {},
   "source": [
    "6.Is machine learning capable of solving all problems? Give a detailed explanation of your answer."
   ]
  },
  {
   "cell_type": "code",
   "execution_count": null,
   "id": "c0580497",
   "metadata": {},
   "outputs": [],
   "source": [
    "# ML is capable of solving various problems but at the same time somtimes there are problems like overfitting and underfitting."
   ]
  },
  {
   "cell_type": "markdown",
   "id": "fba5ba59",
   "metadata": {},
   "source": [
    "7.What are the various methods and technologies for solving machine learning problems? Any two\n",
    "of them should be defined in detail."
   ]
  },
  {
   "cell_type": "code",
   "execution_count": null,
   "id": "7edcc050",
   "metadata": {},
   "outputs": [],
   "source": [
    "# scikit learn-Simple and efficient tools for data mining and data analysis. It features various classification, \n",
    "# regression and clustering algorithms including support vector machines, random forests, gradient boosting, k-means, etc. \n",
    "# Accessible to everybody and reusable in various contexts \n",
    "\n",
    "# tensorflow-TensorFlow is an end-to-end open source platform for machine learning. \n",
    "# It has a comprehensive, flexible ecosystem of tools, libraries and community resources that lets researchers push the \n",
    "# state-of-the-art in ML and developers easily build and deploy ML powered applications."
   ]
  },
  {
   "cell_type": "markdown",
   "id": "40fae488",
   "metadata": {},
   "source": [
    "8.Can you explain the various forms of supervised learning? Explain each one with an example\n",
    "application."
   ]
  },
  {
   "cell_type": "code",
   "execution_count": null,
   "id": "91eb1325",
   "metadata": {},
   "outputs": [],
   "source": [
    "# supervised learning\n",
    "# Regression- continous data\n",
    "# Classification- discrete data\n",
    "# Common classification algorithms are linear classifiers, support vector machines (SVM), decision trees, k-nearest\n",
    "# neighbor, and random forest, which are described in more detail below."
   ]
  },
  {
   "cell_type": "markdown",
   "id": "c8d40e3f",
   "metadata": {},
   "source": [
    "9.What is the difference between supervised and unsupervised learning? With a sample application\n",
    "in each region, explain the differences."
   ]
  },
  {
   "cell_type": "code",
   "execution_count": null,
   "id": "e738d0f8",
   "metadata": {},
   "outputs": [],
   "source": [
    "#The main difference between supervised and unsupervised learning: Labeled data. The main distinction between the \n",
    "#two approaches is the use of labeled datasets. To put it simply, supervised learning uses labeled input and output \n",
    "#data, while an unsupervised learning algorithm does not."
   ]
  },
  {
   "cell_type": "markdown",
   "id": "fc1a77e4",
   "metadata": {},
   "source": [
    "10.Describe the machine learning process in depth.\n",
    "a. Make brief notes on any two of the following:\n",
    "MATLAB is one of the most widely used programming languages.\n",
    "ii. Deep learning applications in healthcare\n",
    "iii. Study of the market basket\n",
    "iv. Linear regression (simple)"
   ]
  },
  {
   "cell_type": "code",
   "execution_count": null,
   "id": "c6324be5",
   "metadata": {},
   "outputs": [],
   "source": [
    "# Deep learning models can interpret medical images like X-ray, MRI scan, CT scan, etc., to perform diagnosis.\n",
    "# The algorithms can detect any risk and flag anomalies in the medical images. Deep learning is extensively used\n",
    "# in detecting cancer\n",
    "\n",
    "# Regression analysis makes use of mathematical models to describe relationships. For example, suppose that \n",
    "# height was the only determinant of body weight. "
   ]
  },
  {
   "cell_type": "markdown",
   "id": "f0c04d59",
   "metadata": {},
   "source": [
    "11.Make a comparison between:-\n",
    "1.Generalization and abstraction\n",
    "2.Learning that is guided and unsupervised\n",
    "3.Regression and classification"
   ]
  },
  {
   "cell_type": "code",
   "execution_count": null,
   "id": "34938beb",
   "metadata": {},
   "outputs": [],
   "source": [
    "#1\n",
    "# While abstraction reduces complexity by hiding irrelevant detail, generalization reduces complexity by replacing multiple \n",
    "# entities which perform similar functions with a single construct.\n",
    "\n",
    "#2\n",
    "# Supervised learning algorithms are trained using labeled data & unsupervised learning algorithms are trained using unlabeled data. \n",
    "# Supervised learning model takes direct feedback to check if it is predicting correct output or not. \n",
    "# Unsupervised learning model does not take any feedback.\n",
    "\n",
    "#3\n",
    "# Classification is the task of predicting a discrete class label.\n",
    "# Regression is the task of predicting a continuous quantity."
   ]
  }
 ],
 "metadata": {
  "kernelspec": {
   "display_name": "Python 3 (ipykernel)",
   "language": "python",
   "name": "python3"
  },
  "language_info": {
   "codemirror_mode": {
    "name": "ipython",
    "version": 3
   },
   "file_extension": ".py",
   "mimetype": "text/x-python",
   "name": "python",
   "nbconvert_exporter": "python",
   "pygments_lexer": "ipython3",
   "version": "3.9.7"
  }
 },
 "nbformat": 4,
 "nbformat_minor": 5
}
